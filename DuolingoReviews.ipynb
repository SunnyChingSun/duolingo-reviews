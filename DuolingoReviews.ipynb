{
 "cells": [
  {
   "cell_type": "markdown",
   "metadata": {},
   "source": [
    "# Analyzing User Satisfaction and Perceived Difficulty Across Languages in Duolingo Reviews\n",
    "\n",
    "### *How do user sentiments and perceptions of learning difficulty vary across different languages offered on Duolingo*?\n",
    "In this project, I want to investigate the user sentiments and perceived learning difficulty across different languages on Duolingo. I will use the following steps to conduct my analysis:<br>\n",
    "<ol><li><b>Import Packages</b>: Import needed packages into the Notebook<br></li>\n",
    "<li><b>Prepare the Data</b>: Scrap data from app store and clean it to a csv file, then import in Notebook as a dataframe<br></li>\n",
    "<li><b>Detect the Language</b>: Detect the corresponding language for each review using keyword detection<br></li>\n",
    "<li><b>Random Selection</b>: Random selecting reviews from the dataframe to make sure every language has similar amount of review to compare<br></li>\n",
    "<li><b>Sentiment Analysis</b>: Do a sentiment analysis using TextBlob module, assign score to each review<br></li>\n",
    "<li><b>Analyzing Learning Difficulty</b>: Analyzing learning difficulty by use keyword detection, assign score to each review<br></li>\n",
    "<li><b>Compare and Visualize</b>: compare the result between languages and visualize the result<br></li>\n",
    "<li><b>Summary and Conclusion</b>: conclude and summarize the finding and analysis<br></li>"
   ]
  },
  {
   "cell_type": "markdown",
   "metadata": {},
   "source": [
    "## Step 1: Import Packages\n",
    "In this project, I used two other packages apart from pandas and numpy, which are <br> \n",
    "<li><b>app_store_scraper</b> to review from AppStore <a href=\"https://www.freecodecamp.org/news/how-to-use-python-to-scrape-app-store-reviews/\">[Source]</a></li>\n",
    "<li><b>TextBlob</b> to do sentiment analysis. <a href=\"https://textblob.readthedocs.io/en/dev/\">[Source]</a> <br><br> </li>\n",
    "So I install the modules and import them into this Notebook. "
   ]
  },
  {
   "cell_type": "code",
   "execution_count": null,
   "metadata": {},
   "outputs": [],
   "source": [
    "pip install app-store-scraper"
   ]
  },
  {
   "cell_type": "code",
   "execution_count": null,
   "metadata": {},
   "outputs": [],
   "source": [
    "pip install textblob"
   ]
  },
  {
   "cell_type": "code",
   "execution_count": 175,
   "metadata": {},
   "outputs": [],
   "source": [
    "import pandas as pd\n",
    "import numpy as np \n",
    "import json\n",
    "from textblob import TextBlob\n",
    "from app_store_scraper import AppStore"
   ]
  },
  {
   "cell_type": "markdown",
   "metadata": {},
   "source": [
    "## Step 2: Prepare the Data\n",
    "Then, I use the app_store_scraper to scrap <b>3660 reviews</b> of Duolingo from App Store following the <a href=\"https://www.freecodecamp.org/news/how-to-use-python-to-scrape-app-store-reviews/\">guide</a>. <br><br>\n",
    "After the data loaded, I put them in a data frame, get the columns that I want, and put it into a csv file. This step is to make sure the data will be consistent throughout the project, which means I can always get the same result when I run the code."
   ]
  },
  {
   "cell_type": "code",
   "execution_count": null,
   "metadata": {},
   "outputs": [],
   "source": [
    "# Loaded 3600 reviews\n",
    "duolingo = AppStore(country='us', app_name='duolingo', app_id='570060128', log_interval=5)\n",
    "duolingo.review(how_many=3600)"
   ]
  },
  {
   "cell_type": "code",
   "execution_count": null,
   "metadata": {},
   "outputs": [],
   "source": [
    "# Clean and organize the data into a csv file\n",
    "duolingo_df = pd.DataFrame(np.array(duolingo.reviews),columns=['review'])\n",
    "duolingo_df = duolingo_df.join(pd.DataFrame(duolingo_df.pop('review').tolist()))\n",
    "duolingo_df = duolingo_df.get(['userName','date','review','rating'])\n",
    "duolingo_df.to_csv('Duolingo-app-reviews.csv')"
   ]
  },
  {
   "cell_type": "markdown",
   "metadata": {},
   "source": [
    "Then, I import the Duolingo reviews dataset into the Notebook."
   ]
  },
  {
   "cell_type": "code",
   "execution_count": 19,
   "metadata": {},
   "outputs": [
    {
     "data": {
      "text/html": [
       "<div>\n",
       "<style scoped>\n",
       "    .dataframe tbody tr th:only-of-type {\n",
       "        vertical-align: middle;\n",
       "    }\n",
       "\n",
       "    .dataframe tbody tr th {\n",
       "        vertical-align: top;\n",
       "    }\n",
       "\n",
       "    .dataframe thead th {\n",
       "        text-align: right;\n",
       "    }\n",
       "</style>\n",
       "<table border=\"1\" class=\"dataframe\">\n",
       "  <thead>\n",
       "    <tr style=\"text-align: right;\">\n",
       "      <th></th>\n",
       "      <th>userName</th>\n",
       "      <th>date</th>\n",
       "      <th>review</th>\n",
       "      <th>rating</th>\n",
       "    </tr>\n",
       "  </thead>\n",
       "  <tbody>\n",
       "    <tr>\n",
       "      <th>0</th>\n",
       "      <td>LL Bear</td>\n",
       "      <td>2021-05-18 13:38:21</td>\n",
       "      <td>This app is truly fun and is a great supplemen...</td>\n",
       "      <td>5</td>\n",
       "    </tr>\n",
       "    <tr>\n",
       "      <th>1</th>\n",
       "      <td>fkdiifjxkdidksock</td>\n",
       "      <td>2023-12-18 10:14:16</td>\n",
       "      <td>I love Duolingo I think it’s a really fun way ...</td>\n",
       "      <td>4</td>\n",
       "    </tr>\n",
       "    <tr>\n",
       "      <th>2</th>\n",
       "      <td>Darth sean</td>\n",
       "      <td>2023-01-16 23:36:52</td>\n",
       "      <td>As usual, “upgrades” to computer products dest...</td>\n",
       "      <td>4</td>\n",
       "    </tr>\n",
       "    <tr>\n",
       "      <th>3</th>\n",
       "      <td>jacqueburrow</td>\n",
       "      <td>2023-04-03 03:40:12</td>\n",
       "      <td>I love this app and I am learning a lot. I’m t...</td>\n",
       "      <td>5</td>\n",
       "    </tr>\n",
       "    <tr>\n",
       "      <th>4</th>\n",
       "      <td>keep uinin.k7grrhyh</td>\n",
       "      <td>2023-10-11 00:15:59</td>\n",
       "      <td>So this game is good no, I really like it but ...</td>\n",
       "      <td>5</td>\n",
       "    </tr>\n",
       "    <tr>\n",
       "      <th>...</th>\n",
       "      <td>...</td>\n",
       "      <td>...</td>\n",
       "      <td>...</td>\n",
       "      <td>...</td>\n",
       "    </tr>\n",
       "    <tr>\n",
       "      <th>3655</th>\n",
       "      <td>acrisis</td>\n",
       "      <td>2024-02-01 12:47:11</td>\n",
       "      <td>I am still new to Duo Lingo, I love snacking o...</td>\n",
       "      <td>3</td>\n",
       "    </tr>\n",
       "    <tr>\n",
       "      <th>3656</th>\n",
       "      <td>mEGGOwaffle</td>\n",
       "      <td>2024-02-01 04:05:10</td>\n",
       "      <td>This app is fantastic. It has helped me tremen...</td>\n",
       "      <td>4</td>\n",
       "    </tr>\n",
       "    <tr>\n",
       "      <th>3657</th>\n",
       "      <td>EmJay941</td>\n",
       "      <td>2024-01-29 16:08:34</td>\n",
       "      <td>I’ve only just started, and finished the first...</td>\n",
       "      <td>4</td>\n",
       "    </tr>\n",
       "    <tr>\n",
       "      <th>3658</th>\n",
       "      <td>diesubway</td>\n",
       "      <td>2024-01-24 03:07:10</td>\n",
       "      <td>I think that this is a wonderful idea but it’s...</td>\n",
       "      <td>3</td>\n",
       "    </tr>\n",
       "    <tr>\n",
       "      <th>3659</th>\n",
       "      <td>UltraReviewer - LVL 10000</td>\n",
       "      <td>2023-12-23 17:58:53</td>\n",
       "      <td>I think Duolingo is a good app with all variat...</td>\n",
       "      <td>4</td>\n",
       "    </tr>\n",
       "  </tbody>\n",
       "</table>\n",
       "<p>3660 rows × 4 columns</p>\n",
       "</div>"
      ],
      "text/plain": [
       "                       userName                 date  \\\n",
       "0                       LL Bear  2021-05-18 13:38:21   \n",
       "1             fkdiifjxkdidksock  2023-12-18 10:14:16   \n",
       "2                    Darth sean  2023-01-16 23:36:52   \n",
       "3                  jacqueburrow  2023-04-03 03:40:12   \n",
       "4           keep uinin.k7grrhyh  2023-10-11 00:15:59   \n",
       "...                         ...                  ...   \n",
       "3655                    acrisis  2024-02-01 12:47:11   \n",
       "3656                mEGGOwaffle  2024-02-01 04:05:10   \n",
       "3657                   EmJay941  2024-01-29 16:08:34   \n",
       "3658                  diesubway  2024-01-24 03:07:10   \n",
       "3659  UltraReviewer - LVL 10000  2023-12-23 17:58:53   \n",
       "\n",
       "                                                 review  rating  \n",
       "0     This app is truly fun and is a great supplemen...       5  \n",
       "1     I love Duolingo I think it’s a really fun way ...       4  \n",
       "2     As usual, “upgrades” to computer products dest...       4  \n",
       "3     I love this app and I am learning a lot. I’m t...       5  \n",
       "4     So this game is good no, I really like it but ...       5  \n",
       "...                                                 ...     ...  \n",
       "3655  I am still new to Duo Lingo, I love snacking o...       3  \n",
       "3656  This app is fantastic. It has helped me tremen...       4  \n",
       "3657  I’ve only just started, and finished the first...       4  \n",
       "3658  I think that this is a wonderful idea but it’s...       3  \n",
       "3659  I think Duolingo is a good app with all variat...       4  \n",
       "\n",
       "[3660 rows x 4 columns]"
      ]
     },
     "execution_count": 19,
     "metadata": {},
     "output_type": "execute_result"
    }
   ],
   "source": [
    "# Import review dataset into Notebook\n",
    "reviews_df = pd.read_csv('Duolingo-app-reviews.csv').get(['userName', 'date', 'review', 'rating'])\n",
    "reviews_df"
   ]
  },
  {
   "cell_type": "markdown",
   "metadata": {},
   "source": [
    "## Step 3: Detect the Language\n",
    "Since I want to compare reviews across different languages, I created a function <i>detect_language</i> to detect the language that each review is referring to. The function adds a column to the original dataframe showing the detected language.<br><br>\n",
    "<b> I only use 5 languages in this project, and they are the 5 most popular languages of Duolingo in 2023 <a href=\"https://blog.duolingo.com/2023-duolingo-language-report/\">[Source]</a>. (I didn't include English because the reviews are from US store, and many of the English comments are from English speaker.)"
   ]
  },
  {
   "cell_type": "code",
   "execution_count": 76,
   "metadata": {},
   "outputs": [],
   "source": [
    "def detect_language(review):\n",
    "    # Common words or phrases associated with each language\n",
    "    languages = {'spanish': ['español', 'spanish', 'españa'],\n",
    "                 'french': ['français', 'french', 'france'],\n",
    "                 'german': ['deutsch', 'german', 'germany'],\n",
    "                 'japanese': ['日本語', 'japanese', 'japan'],\n",
    "                 'korean': ['한국어', 'korean', 'korea'],\n",
    "                }\n",
    "    \n",
    "    review_lower = review.lower()  # Convert review text to lowercase for case-insensitive comparison\n",
    "    \n",
    "    # Check if any common word or phrase associated with each language is present in the review\n",
    "    detected_lan =[]\n",
    "    for language, keywords in languages.items():\n",
    "        for keyword in keywords:\n",
    "            if keyword in review_lower:\n",
    "                return language\n",
    "    \n",
    "    return 'unknown'  # Return 'unknown' if no language is detected\n",
    "\n",
    "# Add a new column 'detected_language' to the DataFrame containing the detected language for each review\n",
    "reviews_df['detected_language'] = reviews_df['review'].apply(detect_language)\n",
    "\n",
    "#remove \"unknown\" review\n",
    "reviews_df = reviews_df[reviews_df.get('detected_language')!='unknown'] "
   ]
  },
  {
   "cell_type": "code",
   "execution_count": 77,
   "metadata": {
    "scrolled": false
   },
   "outputs": [
    {
     "data": {
      "text/html": [
       "<div>\n",
       "<style scoped>\n",
       "    .dataframe tbody tr th:only-of-type {\n",
       "        vertical-align: middle;\n",
       "    }\n",
       "\n",
       "    .dataframe tbody tr th {\n",
       "        vertical-align: top;\n",
       "    }\n",
       "\n",
       "    .dataframe thead th {\n",
       "        text-align: right;\n",
       "    }\n",
       "</style>\n",
       "<table border=\"1\" class=\"dataframe\">\n",
       "  <thead>\n",
       "    <tr style=\"text-align: right;\">\n",
       "      <th></th>\n",
       "      <th>userName</th>\n",
       "    </tr>\n",
       "    <tr>\n",
       "      <th>detected_language</th>\n",
       "      <th></th>\n",
       "    </tr>\n",
       "  </thead>\n",
       "  <tbody>\n",
       "    <tr>\n",
       "      <th>french</th>\n",
       "      <td>337</td>\n",
       "    </tr>\n",
       "    <tr>\n",
       "      <th>german</th>\n",
       "      <td>154</td>\n",
       "    </tr>\n",
       "    <tr>\n",
       "      <th>japanese</th>\n",
       "      <td>216</td>\n",
       "    </tr>\n",
       "    <tr>\n",
       "      <th>korean</th>\n",
       "      <td>51</td>\n",
       "    </tr>\n",
       "    <tr>\n",
       "      <th>spanish</th>\n",
       "      <td>1091</td>\n",
       "    </tr>\n",
       "  </tbody>\n",
       "</table>\n",
       "</div>"
      ],
      "text/plain": [
       "                   userName\n",
       "detected_language          \n",
       "french                  337\n",
       "german                  154\n",
       "japanese                216\n",
       "korean                   51\n",
       "spanish                1091"
      ]
     },
     "execution_count": 77,
     "metadata": {},
     "output_type": "execute_result"
    }
   ],
   "source": [
    "# See the review distribution between languages\n",
    "reviews_df.groupby('detected_language').count().get(['userName'])"
   ]
  },
  {
   "cell_type": "markdown",
   "metadata": {},
   "source": [
    "## Step 4: Random Selection\n",
    "From the table above, I noticed there's a huge difference in the number of reviews for different languages. To avoid the bias from the data, I randomly selected (with replacement) 100 reviews of each language, and form a new dataframe <i>balanced_review_df</i>."
   ]
  },
  {
   "cell_type": "code",
   "execution_count": 78,
   "metadata": {},
   "outputs": [
    {
     "data": {
      "text/plain": [
       "detected_language\n",
       "french      100\n",
       "spanish     100\n",
       "german      100\n",
       "japanese    100\n",
       "korean      100\n",
       "Name: count, dtype: int64"
      ]
     },
     "execution_count": 78,
     "metadata": {},
     "output_type": "execute_result"
    }
   ],
   "source": [
    "# Define the desired number of reviews for each language\n",
    "desired_reviews_per_language = 100\n",
    "\n",
    "# Initialize an empty list to store the balanced dataset\n",
    "balanced_reviews = []\n",
    "\n",
    "# Loop through each language\n",
    "for language in reviews_df['detected_language'].unique():\n",
    "    # Filter reviews for the current language\n",
    "    language_reviews = reviews_df[reviews_df['detected_language'] == language]\n",
    "    \n",
    "    # Randomly select the desired number of reviews for the current language\n",
    "    sampled_reviews = language_reviews.sample(desired_reviews_per_language, replace=True, random_state=42)\n",
    "    \n",
    "    # Append the sampled reviews to the balanced dataset list\n",
    "    balanced_reviews.extend(sampled_reviews.values.tolist())\n",
    "\n",
    "# Create a DataFrame from the list of balanced reviews\n",
    "balanced_reviews_df = pd.DataFrame(balanced_reviews, columns=reviews_df.columns)\n",
    "\n",
    "# Check the number of reviews for each language in the balanced dataset\n",
    "balanced_reviews_df['detected_language'].value_counts()"
   ]
  },
  {
   "cell_type": "markdown",
   "metadata": {},
   "source": [
    "## Step 5: Sentiment Analysis\n",
    "Then, I used TextBlob sentiment analysis module to calculate sentiment scores for each review, and add the result as a column to the dataframe."
   ]
  },
  {
   "cell_type": "code",
   "execution_count": 79,
   "metadata": {
    "scrolled": true
   },
   "outputs": [],
   "source": [
    "# Calculate the sentiment scores for each review and add the result as a column to the dataframe.\n",
    "balanced_reviews_df['sentiment_score'] = balanced_reviews_df['review'].\\\n",
    "apply(lambda x: TextBlob(x).sentiment.polarity)"
   ]
  },
  {
   "cell_type": "code",
   "execution_count": 98,
   "metadata": {},
   "outputs": [
    {
     "data": {
      "text/html": [
       "<div>\n",
       "<style scoped>\n",
       "    .dataframe tbody tr th:only-of-type {\n",
       "        vertical-align: middle;\n",
       "    }\n",
       "\n",
       "    .dataframe tbody tr th {\n",
       "        vertical-align: top;\n",
       "    }\n",
       "\n",
       "    .dataframe thead th {\n",
       "        text-align: right;\n",
       "    }\n",
       "</style>\n",
       "<table border=\"1\" class=\"dataframe\">\n",
       "  <thead>\n",
       "    <tr style=\"text-align: right;\">\n",
       "      <th></th>\n",
       "      <th>sentiment_score</th>\n",
       "      <th>rating</th>\n",
       "    </tr>\n",
       "    <tr>\n",
       "      <th>detected_language</th>\n",
       "      <th></th>\n",
       "      <th></th>\n",
       "    </tr>\n",
       "  </thead>\n",
       "  <tbody>\n",
       "    <tr>\n",
       "      <th>japanese</th>\n",
       "      <td>0.115433</td>\n",
       "      <td>3.61</td>\n",
       "    </tr>\n",
       "    <tr>\n",
       "      <th>korean</th>\n",
       "      <td>0.120590</td>\n",
       "      <td>3.32</td>\n",
       "    </tr>\n",
       "    <tr>\n",
       "      <th>spanish</th>\n",
       "      <td>0.124027</td>\n",
       "      <td>3.76</td>\n",
       "    </tr>\n",
       "    <tr>\n",
       "      <th>german</th>\n",
       "      <td>0.126135</td>\n",
       "      <td>3.47</td>\n",
       "    </tr>\n",
       "    <tr>\n",
       "      <th>french</th>\n",
       "      <td>0.161188</td>\n",
       "      <td>3.67</td>\n",
       "    </tr>\n",
       "  </tbody>\n",
       "</table>\n",
       "</div>"
      ],
      "text/plain": [
       "                   sentiment_score  rating\n",
       "detected_language                         \n",
       "japanese                  0.115433    3.61\n",
       "korean                    0.120590    3.32\n",
       "spanish                   0.124027    3.76\n",
       "german                    0.126135    3.47\n",
       "french                    0.161188    3.67"
      ]
     },
     "execution_count": 98,
     "metadata": {},
     "output_type": "execute_result"
    }
   ],
   "source": [
    "# Language Comparison\n",
    "# Group the reviews by the detected language\n",
    "balanced_reviews_df.get(['detected_language', 'sentiment_score','rating']).\\\n",
    "groupby('detected_language').mean().sort_values('sentiment_score')"
   ]
  },
  {
   "cell_type": "markdown",
   "metadata": {},
   "source": [
    "## Step 6: Analyzing Learning Difficulty\n",
    "Next, I analyzing the learning difficulty for different languages by detecting keywords. \n",
    "<li>Firstly, I define a list of keywords that's related to learning difficulty.\n",
    "<li>Then, I count the occurrence of difficulty keywords in each review.\n",
    "<li>Lastly, I calculate the percentage of reviews mentioning difficulty keywords for each language, and add the value to the dataframe."
   ]
  },
  {
   "cell_type": "code",
   "execution_count": 172,
   "metadata": {},
   "outputs": [
    {
     "data": {
      "text/plain": [
       "detected_language\n",
       "spanish     21.0\n",
       "german      23.0\n",
       "korean      26.0\n",
       "french      27.0\n",
       "japanese    29.0\n",
       "Name: difficulty_detected, dtype: float64"
      ]
     },
     "execution_count": 172,
     "metadata": {},
     "output_type": "execute_result"
    }
   ],
   "source": [
    "# Define difficulty keywords\n",
    "difficulty_keywords = ['hard', 'difficult', 'struggle', 'challenging']\n",
    "\n",
    "# Function to check if any difficulty keyword is present in the review text\n",
    "def detect_difficulty(text):\n",
    "    for keyword in difficulty_keywords:\n",
    "        if keyword in text.lower():\n",
    "            return 1\n",
    "    return 0\n",
    "\n",
    "# Apply the function to create a new column indicating if any difficulty keyword was detected\n",
    "balanced_reviews_df['difficulty_detected'] = balanced_reviews_df['review'].apply(detect_difficulty)\n",
    "\n",
    "# Calculate the percentage of reviews mentioning difficulty keywords for each language\n",
    "difficulty_percentage_by_language = balanced_reviews_df.groupby('detected_language')\\\n",
    "['difficulty_detected'].mean() * 100\n",
    "difficulty_percentage_by_language.sort_values()"
   ]
  },
  {
   "cell_type": "markdown",
   "metadata": {},
   "source": [
    "## Step 7: Compare and Visualize\n",
    "At the end of the analysis, I compared the different languages based on three different scores: sentiment score, difficulty detected, and rating.  "
   ]
  },
  {
   "cell_type": "code",
   "execution_count": 158,
   "metadata": {},
   "outputs": [],
   "source": [
    "# adjust rating to be close to other factors\n",
    "balanced_reviews_df['adjusted_rating'] = balanced_reviews_df.get('rating')/10"
   ]
  },
  {
   "cell_type": "code",
   "execution_count": 169,
   "metadata": {},
   "outputs": [
    {
     "data": {
      "text/html": [
       "<div>\n",
       "<style scoped>\n",
       "    .dataframe tbody tr th:only-of-type {\n",
       "        vertical-align: middle;\n",
       "    }\n",
       "\n",
       "    .dataframe tbody tr th {\n",
       "        vertical-align: top;\n",
       "    }\n",
       "\n",
       "    .dataframe thead th {\n",
       "        text-align: right;\n",
       "    }\n",
       "</style>\n",
       "<table border=\"1\" class=\"dataframe\">\n",
       "  <thead>\n",
       "    <tr style=\"text-align: right;\">\n",
       "      <th>detected_language</th>\n",
       "      <th>spanish</th>\n",
       "      <th>german</th>\n",
       "      <th>korean</th>\n",
       "      <th>french</th>\n",
       "      <th>japanese</th>\n",
       "    </tr>\n",
       "  </thead>\n",
       "  <tbody>\n",
       "    <tr>\n",
       "      <th>sentiment_score</th>\n",
       "      <td>0.124027</td>\n",
       "      <td>0.126135</td>\n",
       "      <td>0.12059</td>\n",
       "      <td>0.161188</td>\n",
       "      <td>0.115433</td>\n",
       "    </tr>\n",
       "    <tr>\n",
       "      <th>difficulty_detected</th>\n",
       "      <td>0.210000</td>\n",
       "      <td>0.230000</td>\n",
       "      <td>0.26000</td>\n",
       "      <td>0.270000</td>\n",
       "      <td>0.290000</td>\n",
       "    </tr>\n",
       "    <tr>\n",
       "      <th>adjusted_rating</th>\n",
       "      <td>0.376000</td>\n",
       "      <td>0.347000</td>\n",
       "      <td>0.33200</td>\n",
       "      <td>0.367000</td>\n",
       "      <td>0.361000</td>\n",
       "    </tr>\n",
       "  </tbody>\n",
       "</table>\n",
       "</div>"
      ],
      "text/plain": [
       "detected_language     spanish    german   korean    french  japanese\n",
       "sentiment_score      0.124027  0.126135  0.12059  0.161188  0.115433\n",
       "difficulty_detected  0.210000  0.230000  0.26000  0.270000  0.290000\n",
       "adjusted_rating      0.376000  0.347000  0.33200  0.367000  0.361000"
      ]
     },
     "execution_count": 169,
     "metadata": {},
     "output_type": "execute_result"
    },
    {
     "data": {
      "image/png": "[encoded data removed]",
      "text/plain": [
       "<Figure size 720x576 with 1 Axes>"
      ]
     },
     "metadata": {
      "needs_background": "light"
     },
     "output_type": "display_data"
    }
   ],
   "source": [
    "# Language Comparison\n",
    "# Group the reviews by the detected language\n",
    "num_comparison = balanced_reviews_df.get(['detected_language', 'sentiment_score','difficulty_detected', \n",
    "                                          'adjusted_rating']).groupby('detected_language').mean() \\\n",
    "                                            .sort_values('difficulty_detected')\n",
    "# transporse the dataframe\n",
    "num_comparison_transposed = num_comparison.transpose()\n",
    "\n",
    "# Plotting\n",
    "num_comparison_transposed.plot(kind='bar', figsize=(10, 8));\n",
    "num_comparison_transposed"
   ]
  },
  {
   "cell_type": "markdown",
   "metadata": {},
   "source": [
    "## Step 8: Summary and Conclusion\n",
    "### 1. Sentiment Score Analysis:<br>\n",
    "<li> Spanish has the highest sentiment score (0.124), followed closely by German (0.126).\n",
    "<li> Japanese has the lowest sentiment score (0.115), indicating slightly less positive user sentiment compared to other languages. </li>\n",
    "    \n",
    "### 2. Perceived Difficulty Analysis: <br>\n",
    "<li> Spanish has the lowest perceived difficulty level (0.21), followed by German (0.23) and Korean (0.26).\n",
    "<li> Japanese has the highest perceived difficulty level (0.29), indicating that users may find it relatively more challenging to learn Japanese on Duolingo compared to other languages.</li>\n",
    "\n",
    "### 3. Overall Analysis:\n",
    "I observe that Japanese appears to be the language associated with the lowest satisfaction level and the highest perceived difficulty among Duolingo users. Conversely, Spanish and French exhibit higher satisfaction levels and lower perceived difficulty among Duolingo users. This differences could resulted from factors such as the familiarity of Western users with Western languages compared to Eastern languages like Japanese. It could also indicate potential areas for improvement in Duolingo's teaching methods for Japanese, or other Eastern languages.\n",
    "\n",
    "### Conclusion\n",
    "Therefore, the analysis suggests that user satisfaction and perceived difficulty levels vary across different languages on Duolingo, which could be influenced by factors such as language familiarity and teaching effectiveness. "
   ]
  }
 ],
 "metadata": {
  "kernelspec": {
   "display_name": "Python 3 (ipykernel)",
   "language": "python",
   "name": "python3"
  },
  "language_info": {
   "codemirror_mode": {
    "name": "ipython",
    "version": 3
   },
   "file_extension": ".py",
   "mimetype": "text/x-python",
   "name": "python",
   "nbconvert_exporter": "python",
   "pygments_lexer": "ipython3",
   "version": "3.9.5"
  }
 },
 "nbformat": 4,
 "nbformat_minor": 1
}
